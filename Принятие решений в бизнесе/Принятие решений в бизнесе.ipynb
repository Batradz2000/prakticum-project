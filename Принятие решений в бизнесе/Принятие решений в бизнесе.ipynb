{
 "cells": [
  {
   "cell_type": "code",
   "execution_count": 1,
   "id": "c7c5d517",
   "metadata": {},
   "outputs": [],
   "source": [
    "import pandas as pd \n",
    "import numpy as np \n",
    "import scipy.stats as stats\n",
    "import matplotlib.pyplot as plt\n",
    "import seaborn as sns\n",
    "import warnings\n",
    "import datetime as dt\n",
    "\n",
    "warnings.simplefilter('ignore')"
   ]
  },
  {
   "cell_type": "markdown",
   "id": "8046aafa",
   "metadata": {},
   "source": [
    "# Описание проекта\n",
    "Маркетинговый отдел крупного интернет-магазина предоставил нам список гипотез для увелечения выручки.Нам необходимо их приоритизировать, а также провести A/B-тестов , а также провести анализ результатов.\n",
    "\n",
    "План проекта:\n",
    "- Часть 1. Приоритизация гипотез.\n",
    "- Часть 2. Анализ A/B-теста\n",
    " "
   ]
  },
  {
   "cell_type": "code",
   "execution_count": 2,
   "id": "a97cd11c",
   "metadata": {},
   "outputs": [],
   "source": [
    "try:\n",
    "    hypothesis = pd.read_csv(\"C:/Users/kulum/Downloads/hypothesis.csv\")\n",
    "    orders = pd.read_csv(\"C:/Users/kulum/Downloadsorders.csv\")\n",
    "    visits = pd.read_csv(\"C:/Users/kulum/Downloads/visitors.csv\")\n",
    "except:\n",
    "    visitors = pd.read_csv(\"https://code.s3.yandex.net/datasets/visitors.csv\")\n",
    "    hypothesis = pd.read_csv(\"https://code.s3.yandex.net/datasets/hypothesis.csv\")\n",
    "    orders = pd.read_csv(\"https://code.s3.yandex.net/datasets/orders.csv\")\n"
   ]
  },
  {
   "cell_type": "markdown",
   "id": "5ecb3f7e",
   "metadata": {},
   "source": [
    "# Часть 1. Приоритизация гипотез.\n"
   ]
  },
  {
   "cell_type": "markdown",
   "id": "ddf1a89a",
   "metadata": {},
   "source": [
    "Итак в нашем арсенали  9 гипотез по увеличению выручки интернет-магазина с указанными параметрами."
   ]
  },
  {
   "cell_type": "code",
   "execution_count": 3,
   "id": "12d03c46",
   "metadata": {},
   "outputs": [
    {
     "data": {
      "text/html": [
       "<div>\n",
       "<style scoped>\n",
       "    .dataframe tbody tr th:only-of-type {\n",
       "        vertical-align: middle;\n",
       "    }\n",
       "\n",
       "    .dataframe tbody tr th {\n",
       "        vertical-align: top;\n",
       "    }\n",
       "\n",
       "    .dataframe thead th {\n",
       "        text-align: right;\n",
       "    }\n",
       "</style>\n",
       "<table border=\"1\" class=\"dataframe\">\n",
       "  <thead>\n",
       "    <tr style=\"text-align: right;\">\n",
       "      <th></th>\n",
       "      <th>hypothesis</th>\n",
       "      <th>reach</th>\n",
       "      <th>impact</th>\n",
       "      <th>confidence</th>\n",
       "      <th>efforts</th>\n",
       "    </tr>\n",
       "  </thead>\n",
       "  <tbody>\n",
       "    <tr>\n",
       "      <th>0</th>\n",
       "      <td>Добавить два новых канала привлечения трафика, что позволит привлекать на 30% больше пользователей</td>\n",
       "      <td>3</td>\n",
       "      <td>10</td>\n",
       "      <td>8</td>\n",
       "      <td>6</td>\n",
       "    </tr>\n",
       "    <tr>\n",
       "      <th>1</th>\n",
       "      <td>Запустить собственную службу доставки, что сократит срок доставки заказов</td>\n",
       "      <td>2</td>\n",
       "      <td>5</td>\n",
       "      <td>4</td>\n",
       "      <td>10</td>\n",
       "    </tr>\n",
       "    <tr>\n",
       "      <th>2</th>\n",
       "      <td>Добавить блоки рекомендаций товаров на сайт интернет магазина, чтобы повысить конверсию и средний чек заказа</td>\n",
       "      <td>8</td>\n",
       "      <td>3</td>\n",
       "      <td>7</td>\n",
       "      <td>3</td>\n",
       "    </tr>\n",
       "    <tr>\n",
       "      <th>3</th>\n",
       "      <td>Изменить структура категорий, что увеличит конверсию, т.к. пользователи быстрее найдут нужный товар</td>\n",
       "      <td>8</td>\n",
       "      <td>3</td>\n",
       "      <td>3</td>\n",
       "      <td>8</td>\n",
       "    </tr>\n",
       "    <tr>\n",
       "      <th>4</th>\n",
       "      <td>Изменить цвет фона главной страницы, чтобы увеличить вовлеченность пользователей</td>\n",
       "      <td>3</td>\n",
       "      <td>1</td>\n",
       "      <td>1</td>\n",
       "      <td>1</td>\n",
       "    </tr>\n",
       "    <tr>\n",
       "      <th>5</th>\n",
       "      <td>Добавить страницу отзывов клиентов о магазине, что позволит увеличить количество заказов</td>\n",
       "      <td>3</td>\n",
       "      <td>2</td>\n",
       "      <td>2</td>\n",
       "      <td>3</td>\n",
       "    </tr>\n",
       "    <tr>\n",
       "      <th>6</th>\n",
       "      <td>Показать на главной странице баннеры с актуальными акциями и распродажами, чтобы увеличить конверсию</td>\n",
       "      <td>5</td>\n",
       "      <td>3</td>\n",
       "      <td>8</td>\n",
       "      <td>3</td>\n",
       "    </tr>\n",
       "    <tr>\n",
       "      <th>7</th>\n",
       "      <td>Добавить форму подписки на все основные страницы, чтобы собрать базу клиентов для email-рассылок</td>\n",
       "      <td>10</td>\n",
       "      <td>7</td>\n",
       "      <td>8</td>\n",
       "      <td>5</td>\n",
       "    </tr>\n",
       "    <tr>\n",
       "      <th>8</th>\n",
       "      <td>Запустить акцию, дающую скидку на товар в день рождения</td>\n",
       "      <td>1</td>\n",
       "      <td>9</td>\n",
       "      <td>9</td>\n",
       "      <td>5</td>\n",
       "    </tr>\n",
       "  </tbody>\n",
       "</table>\n",
       "</div>"
      ],
      "text/plain": [
       "                                                                                                     hypothesis  \\\n",
       "0            Добавить два новых канала привлечения трафика, что позволит привлекать на 30% больше пользователей   \n",
       "1                                     Запустить собственную службу доставки, что сократит срок доставки заказов   \n",
       "2  Добавить блоки рекомендаций товаров на сайт интернет магазина, чтобы повысить конверсию и средний чек заказа   \n",
       "3           Изменить структура категорий, что увеличит конверсию, т.к. пользователи быстрее найдут нужный товар   \n",
       "4                              Изменить цвет фона главной страницы, чтобы увеличить вовлеченность пользователей   \n",
       "5                      Добавить страницу отзывов клиентов о магазине, что позволит увеличить количество заказов   \n",
       "6          Показать на главной странице баннеры с актуальными акциями и распродажами, чтобы увеличить конверсию   \n",
       "7              Добавить форму подписки на все основные страницы, чтобы собрать базу клиентов для email-рассылок   \n",
       "8                                                       Запустить акцию, дающую скидку на товар в день рождения   \n",
       "\n",
       "   reach  impact  confidence  efforts  \n",
       "0      3      10           8        6  \n",
       "1      2       5           4       10  \n",
       "2      8       3           7        3  \n",
       "3      8       3           3        8  \n",
       "4      3       1           1        1  \n",
       "5      3       2           2        3  \n",
       "6      5       3           8        3  \n",
       "7     10       7           8        5  \n",
       "8      1       9           9        5  "
      ]
     },
     "execution_count": 3,
     "metadata": {},
     "output_type": "execute_result"
    }
   ],
   "source": [
    "pd.set_option('colwidth',110)\n",
    "hypothesis.columns = hypothesis.columns.str.lower()\n",
    "hypothesis"
   ]
  },
  {
   "cell_type": "code",
   "execution_count": 4,
   "id": "25b8969a",
   "metadata": {},
   "outputs": [
    {
     "data": {
      "text/html": [
       "<div>\n",
       "<style scoped>\n",
       "    .dataframe tbody tr th:only-of-type {\n",
       "        vertical-align: middle;\n",
       "    }\n",
       "\n",
       "    .dataframe tbody tr th {\n",
       "        vertical-align: top;\n",
       "    }\n",
       "\n",
       "    .dataframe thead th {\n",
       "        text-align: right;\n",
       "    }\n",
       "</style>\n",
       "<table border=\"1\" class=\"dataframe\">\n",
       "  <thead>\n",
       "    <tr style=\"text-align: right;\">\n",
       "      <th></th>\n",
       "      <th>hypothesis</th>\n",
       "      <th>reach</th>\n",
       "      <th>impact</th>\n",
       "      <th>confidence</th>\n",
       "      <th>efforts</th>\n",
       "      <th>ICE</th>\n",
       "    </tr>\n",
       "  </thead>\n",
       "  <tbody>\n",
       "    <tr>\n",
       "      <th>8</th>\n",
       "      <td>Запустить акцию, дающую скидку на товар в день рождения</td>\n",
       "      <td>1</td>\n",
       "      <td>9</td>\n",
       "      <td>9</td>\n",
       "      <td>5</td>\n",
       "      <td>16.20</td>\n",
       "    </tr>\n",
       "    <tr>\n",
       "      <th>0</th>\n",
       "      <td>Добавить два новых канала привлечения трафика, что позволит привлекать на 30% больше пользователей</td>\n",
       "      <td>3</td>\n",
       "      <td>10</td>\n",
       "      <td>8</td>\n",
       "      <td>6</td>\n",
       "      <td>13.33</td>\n",
       "    </tr>\n",
       "    <tr>\n",
       "      <th>7</th>\n",
       "      <td>Добавить форму подписки на все основные страницы, чтобы собрать базу клиентов для email-рассылок</td>\n",
       "      <td>10</td>\n",
       "      <td>7</td>\n",
       "      <td>8</td>\n",
       "      <td>5</td>\n",
       "      <td>11.20</td>\n",
       "    </tr>\n",
       "    <tr>\n",
       "      <th>6</th>\n",
       "      <td>Показать на главной странице баннеры с актуальными акциями и распродажами, чтобы увеличить конверсию</td>\n",
       "      <td>5</td>\n",
       "      <td>3</td>\n",
       "      <td>8</td>\n",
       "      <td>3</td>\n",
       "      <td>8.00</td>\n",
       "    </tr>\n",
       "    <tr>\n",
       "      <th>2</th>\n",
       "      <td>Добавить блоки рекомендаций товаров на сайт интернет магазина, чтобы повысить конверсию и средний чек заказа</td>\n",
       "      <td>8</td>\n",
       "      <td>3</td>\n",
       "      <td>7</td>\n",
       "      <td>3</td>\n",
       "      <td>7.00</td>\n",
       "    </tr>\n",
       "  </tbody>\n",
       "</table>\n",
       "</div>"
      ],
      "text/plain": [
       "                                                                                                     hypothesis  \\\n",
       "8                                                       Запустить акцию, дающую скидку на товар в день рождения   \n",
       "0            Добавить два новых канала привлечения трафика, что позволит привлекать на 30% больше пользователей   \n",
       "7              Добавить форму подписки на все основные страницы, чтобы собрать базу клиентов для email-рассылок   \n",
       "6          Показать на главной странице баннеры с актуальными акциями и распродажами, чтобы увеличить конверсию   \n",
       "2  Добавить блоки рекомендаций товаров на сайт интернет магазина, чтобы повысить конверсию и средний чек заказа   \n",
       "\n",
       "   reach  impact  confidence  efforts    ICE  \n",
       "8      1       9           9        5  16.20  \n",
       "0      3      10           8        6  13.33  \n",
       "7     10       7           8        5  11.20  \n",
       "6      5       3           8        3   8.00  \n",
       "2      8       3           7        3   7.00  "
      ]
     },
     "execution_count": 4,
     "metadata": {},
     "output_type": "execute_result"
    }
   ],
   "source": [
    "hypothesis['ICE'] = (hypothesis.impact* hypothesis.confidence/hypothesis.efforts).round(2)\n",
    "hypothesis.sort_values(by = 'ICE',ascending = False).head(5)"
   ]
  },
  {
   "cell_type": "markdown",
   "id": "d2fedf11",
   "metadata": {},
   "source": [
    "Согласно рейтинг ICE наиболее популярные гипотезы:\n",
    "- 1.Запустить акцию, дающую скидку на товар в день рождения\n",
    "- 2.Добавить два новых канала привлечения трафика, что позволит привлекать на 30% больше пользователей\n",
    "- 3.Добавить форму подписки на все основные страницы, чтобы собрать базу клиентов для email-рассылок\t\n",
    "- 4.Показать на главной странице баннеры с актуальными акциями и распродажами, чтобы увеличить конверсию\t\n",
    "- 5.Добавить блоки рекомендаций товаров на сайт интернет магазина, чтобы повысить конверсию и средний чек заказа"
   ]
  },
  {
   "cell_type": "code",
   "execution_count": 5,
   "id": "2bc253ae",
   "metadata": {
    "scrolled": true
   },
   "outputs": [
    {
     "data": {
      "text/html": [
       "<div>\n",
       "<style scoped>\n",
       "    .dataframe tbody tr th:only-of-type {\n",
       "        vertical-align: middle;\n",
       "    }\n",
       "\n",
       "    .dataframe tbody tr th {\n",
       "        vertical-align: top;\n",
       "    }\n",
       "\n",
       "    .dataframe thead th {\n",
       "        text-align: right;\n",
       "    }\n",
       "</style>\n",
       "<table border=\"1\" class=\"dataframe\">\n",
       "  <thead>\n",
       "    <tr style=\"text-align: right;\">\n",
       "      <th></th>\n",
       "      <th>hypothesis</th>\n",
       "      <th>reach</th>\n",
       "      <th>impact</th>\n",
       "      <th>confidence</th>\n",
       "      <th>efforts</th>\n",
       "      <th>ICE</th>\n",
       "      <th>RICE</th>\n",
       "    </tr>\n",
       "  </thead>\n",
       "  <tbody>\n",
       "    <tr>\n",
       "      <th>7</th>\n",
       "      <td>Добавить форму подписки на все основные страницы, чтобы собрать базу клиентов для email-рассылок</td>\n",
       "      <td>10</td>\n",
       "      <td>7</td>\n",
       "      <td>8</td>\n",
       "      <td>5</td>\n",
       "      <td>11.20</td>\n",
       "      <td>112.0</td>\n",
       "    </tr>\n",
       "    <tr>\n",
       "      <th>2</th>\n",
       "      <td>Добавить блоки рекомендаций товаров на сайт интернет магазина, чтобы повысить конверсию и средний чек заказа</td>\n",
       "      <td>8</td>\n",
       "      <td>3</td>\n",
       "      <td>7</td>\n",
       "      <td>3</td>\n",
       "      <td>7.00</td>\n",
       "      <td>56.0</td>\n",
       "    </tr>\n",
       "    <tr>\n",
       "      <th>0</th>\n",
       "      <td>Добавить два новых канала привлечения трафика, что позволит привлекать на 30% больше пользователей</td>\n",
       "      <td>3</td>\n",
       "      <td>10</td>\n",
       "      <td>8</td>\n",
       "      <td>6</td>\n",
       "      <td>13.33</td>\n",
       "      <td>40.0</td>\n",
       "    </tr>\n",
       "    <tr>\n",
       "      <th>6</th>\n",
       "      <td>Показать на главной странице баннеры с актуальными акциями и распродажами, чтобы увеличить конверсию</td>\n",
       "      <td>5</td>\n",
       "      <td>3</td>\n",
       "      <td>8</td>\n",
       "      <td>3</td>\n",
       "      <td>8.00</td>\n",
       "      <td>40.0</td>\n",
       "    </tr>\n",
       "    <tr>\n",
       "      <th>8</th>\n",
       "      <td>Запустить акцию, дающую скидку на товар в день рождения</td>\n",
       "      <td>1</td>\n",
       "      <td>9</td>\n",
       "      <td>9</td>\n",
       "      <td>5</td>\n",
       "      <td>16.20</td>\n",
       "      <td>16.2</td>\n",
       "    </tr>\n",
       "  </tbody>\n",
       "</table>\n",
       "</div>"
      ],
      "text/plain": [
       "                                                                                                     hypothesis  \\\n",
       "7              Добавить форму подписки на все основные страницы, чтобы собрать базу клиентов для email-рассылок   \n",
       "2  Добавить блоки рекомендаций товаров на сайт интернет магазина, чтобы повысить конверсию и средний чек заказа   \n",
       "0            Добавить два новых канала привлечения трафика, что позволит привлекать на 30% больше пользователей   \n",
       "6          Показать на главной странице баннеры с актуальными акциями и распродажами, чтобы увеличить конверсию   \n",
       "8                                                       Запустить акцию, дающую скидку на товар в день рождения   \n",
       "\n",
       "   reach  impact  confidence  efforts    ICE   RICE  \n",
       "7     10       7           8        5  11.20  112.0  \n",
       "2      8       3           7        3   7.00   56.0  \n",
       "0      3      10           8        6  13.33   40.0  \n",
       "6      5       3           8        3   8.00   40.0  \n",
       "8      1       9           9        5  16.20   16.2  "
      ]
     },
     "execution_count": 5,
     "metadata": {},
     "output_type": "execute_result"
    }
   ],
   "source": [
    "hypothesis['RICE'] = (hypothesis.reach* hypothesis.impact * hypothesis.confidence/hypothesis.efforts).round(2)\n",
    "hypothesis.sort_values(by = 'RICE',ascending = False).head()"
   ]
  },
  {
   "cell_type": "markdown",
   "id": "03bf6604",
   "metadata": {},
   "source": [
    "Согласно рейтинг RICE наиболее популярные гипотезы:\n",
    "- 1.Добавить форму подписки на все основные страницы, чтобы собрать базу клиентов для email-рассылок\t\n",
    "- 2.Добавить блоки рекомендаций товаров на сайт интернет магазина, чтобы повысить конверсию и средний чек заказа\n",
    "- 3.Добавить два новых канала привлечения трафика, что позволит привлекать на 30% больше пользователей\t\n",
    "- 4.Показать на главной странице баннеры с актуальными акциями и распродажами, чтобы увеличить конверсию\t\n",
    "- 5.Запустить акцию, дающую скидку на товар в день рождения\t"
   ]
  },
  {
   "cell_type": "markdown",
   "id": "2b80f468",
   "metadata": {},
   "source": [
    "## Вывод\n",
    "Если присмотреться к двум таблицам, то можно увидеть первая 5 пятерка и по ретингу ICE, и по рейтингу RICE одинаковая, но в разной последовательности. Связано это с тем , что в рейтинге RICE  учитывается еще такой фактор Reach(охват аудитории).Например ,по рейтингу ICE  гипотеза: \"Запустить акцию, дающую скидку на товар в день рождения\" - на первом месте ,с 16.2 баллами, но в рейтинге RICE только на 5 месте, так как покзатель reach e у нее минимальный - 1. Так как модель RICE учитывает еще такой фактор как охват аудитории, что важно для интернет-магазина,будем отталкивается от приоритезации этой модели."
   ]
  },
  {
   "cell_type": "markdown",
   "id": "af81aa99",
   "metadata": {},
   "source": [
    "# Часть 2. Анализ A/B-теста"
   ]
  },
  {
   "cell_type": "code",
   "execution_count": 6,
   "id": "e7cc3dc9",
   "metadata": {},
   "outputs": [
    {
     "data": {
      "text/html": [
       "<div>\n",
       "<style scoped>\n",
       "    .dataframe tbody tr th:only-of-type {\n",
       "        vertical-align: middle;\n",
       "    }\n",
       "\n",
       "    .dataframe tbody tr th {\n",
       "        vertical-align: top;\n",
       "    }\n",
       "\n",
       "    .dataframe thead th {\n",
       "        text-align: right;\n",
       "    }\n",
       "</style>\n",
       "<table border=\"1\" class=\"dataframe\">\n",
       "  <thead>\n",
       "    <tr style=\"text-align: right;\">\n",
       "      <th></th>\n",
       "      <th>transactionId</th>\n",
       "      <th>visitorId</th>\n",
       "      <th>date</th>\n",
       "      <th>revenue</th>\n",
       "      <th>group</th>\n",
       "    </tr>\n",
       "  </thead>\n",
       "  <tbody>\n",
       "    <tr>\n",
       "      <th>0</th>\n",
       "      <td>3667963787</td>\n",
       "      <td>3312258926</td>\n",
       "      <td>2019-08-15</td>\n",
       "      <td>1650</td>\n",
       "      <td>B</td>\n",
       "    </tr>\n",
       "    <tr>\n",
       "      <th>1</th>\n",
       "      <td>2804400009</td>\n",
       "      <td>3642806036</td>\n",
       "      <td>2019-08-15</td>\n",
       "      <td>730</td>\n",
       "      <td>B</td>\n",
       "    </tr>\n",
       "    <tr>\n",
       "      <th>2</th>\n",
       "      <td>2961555356</td>\n",
       "      <td>4069496402</td>\n",
       "      <td>2019-08-15</td>\n",
       "      <td>400</td>\n",
       "      <td>A</td>\n",
       "    </tr>\n",
       "    <tr>\n",
       "      <th>3</th>\n",
       "      <td>3797467345</td>\n",
       "      <td>1196621759</td>\n",
       "      <td>2019-08-15</td>\n",
       "      <td>9759</td>\n",
       "      <td>B</td>\n",
       "    </tr>\n",
       "    <tr>\n",
       "      <th>4</th>\n",
       "      <td>2282983706</td>\n",
       "      <td>2322279887</td>\n",
       "      <td>2019-08-15</td>\n",
       "      <td>2308</td>\n",
       "      <td>B</td>\n",
       "    </tr>\n",
       "  </tbody>\n",
       "</table>\n",
       "</div>"
      ],
      "text/plain": [
       "   transactionId   visitorId        date  revenue group\n",
       "0     3667963787  3312258926  2019-08-15     1650     B\n",
       "1     2804400009  3642806036  2019-08-15      730     B\n",
       "2     2961555356  4069496402  2019-08-15      400     A\n",
       "3     3797467345  1196621759  2019-08-15     9759     B\n",
       "4     2282983706  2322279887  2019-08-15     2308     B"
      ]
     },
     "metadata": {},
     "output_type": "display_data"
    },
    {
     "data": {
      "text/html": [
       "<div>\n",
       "<style scoped>\n",
       "    .dataframe tbody tr th:only-of-type {\n",
       "        vertical-align: middle;\n",
       "    }\n",
       "\n",
       "    .dataframe tbody tr th {\n",
       "        vertical-align: top;\n",
       "    }\n",
       "\n",
       "    .dataframe thead th {\n",
       "        text-align: right;\n",
       "    }\n",
       "</style>\n",
       "<table border=\"1\" class=\"dataframe\">\n",
       "  <thead>\n",
       "    <tr style=\"text-align: right;\">\n",
       "      <th></th>\n",
       "      <th>date</th>\n",
       "      <th>group</th>\n",
       "      <th>visitors</th>\n",
       "    </tr>\n",
       "  </thead>\n",
       "  <tbody>\n",
       "    <tr>\n",
       "      <th>0</th>\n",
       "      <td>2019-08-01</td>\n",
       "      <td>A</td>\n",
       "      <td>719</td>\n",
       "    </tr>\n",
       "    <tr>\n",
       "      <th>1</th>\n",
       "      <td>2019-08-02</td>\n",
       "      <td>A</td>\n",
       "      <td>619</td>\n",
       "    </tr>\n",
       "    <tr>\n",
       "      <th>2</th>\n",
       "      <td>2019-08-03</td>\n",
       "      <td>A</td>\n",
       "      <td>507</td>\n",
       "    </tr>\n",
       "    <tr>\n",
       "      <th>3</th>\n",
       "      <td>2019-08-04</td>\n",
       "      <td>A</td>\n",
       "      <td>717</td>\n",
       "    </tr>\n",
       "    <tr>\n",
       "      <th>4</th>\n",
       "      <td>2019-08-05</td>\n",
       "      <td>A</td>\n",
       "      <td>756</td>\n",
       "    </tr>\n",
       "  </tbody>\n",
       "</table>\n",
       "</div>"
      ],
      "text/plain": [
       "         date group  visitors\n",
       "0  2019-08-01     A       719\n",
       "1  2019-08-02     A       619\n",
       "2  2019-08-03     A       507\n",
       "3  2019-08-04     A       717\n",
       "4  2019-08-05     A       756"
      ]
     },
     "execution_count": 6,
     "metadata": {},
     "output_type": "execute_result"
    }
   ],
   "source": [
    "display(orders.head())\n",
    "orders.columns = orders.columns.str.lower()\n",
    "visitors.head()\n"
   ]
  },
  {
   "cell_type": "code",
   "execution_count": 7,
   "id": "7c791d0e",
   "metadata": {},
   "outputs": [
    {
     "name": "stdout",
     "output_type": "stream",
     "text": [
      "<class 'pandas.core.frame.DataFrame'>\n",
      "RangeIndex: 1197 entries, 0 to 1196\n",
      "Data columns (total 5 columns):\n",
      " #   Column         Non-Null Count  Dtype \n",
      "---  ------         --------------  ----- \n",
      " 0   transactionid  1197 non-null   int64 \n",
      " 1   visitorid      1197 non-null   int64 \n",
      " 2   date           1197 non-null   object\n",
      " 3   revenue        1197 non-null   int64 \n",
      " 4   group          1197 non-null   object\n",
      "dtypes: int64(3), object(2)\n",
      "memory usage: 46.9+ KB\n",
      "<class 'pandas.core.frame.DataFrame'>\n",
      "RangeIndex: 62 entries, 0 to 61\n",
      "Data columns (total 3 columns):\n",
      " #   Column    Non-Null Count  Dtype \n",
      "---  ------    --------------  ----- \n",
      " 0   date      62 non-null     object\n",
      " 1   group     62 non-null     object\n",
      " 2   visitors  62 non-null     int64 \n",
      "dtypes: int64(1), object(2)\n",
      "memory usage: 1.6+ KB\n"
     ]
    },
    {
     "data": {
      "text/plain": [
       "(None, None)"
      ]
     },
     "execution_count": 7,
     "metadata": {},
     "output_type": "execute_result"
    }
   ],
   "source": [
    "orders.info(), visitors.info()"
   ]
  },
  {
   "cell_type": "markdown",
   "id": "fe568454",
   "metadata": {},
   "source": [
    "Итак перед нами две таблицы orders, которая имеет 1197 записи и не имеет Nan-значение, и visitors,которая имеет 62 записи и не имеет Nan-значение. В таблицах поменяем тип данных для столбца date object на datetime\n"
   ]
  },
  {
   "cell_type": "code",
   "execution_count": 8,
   "id": "f531aa88",
   "metadata": {},
   "outputs": [],
   "source": [
    "visitors['date'] = visitors['date'].map(\n",
    "    lambda x: dt.datetime.strptime(x, '%Y-%m-%d')\n",
    ")\n",
    "\n",
    "orders['date'] = orders['date'].map(\n",
    "    lambda x: dt.datetime.strptime(x, '%Y-%m-%d')\n",
    ")"
   ]
  },
  {
   "cell_type": "code",
   "execution_count": 9,
   "id": "13d49f67",
   "metadata": {},
   "outputs": [
    {
     "name": "stdout",
     "output_type": "stream",
     "text": [
      "Количество групп в АВ-тесте:  2 \n",
      "Дата начала теста 2019-08-01 00:00:00 \n",
      "Дата окончания теста 2019-08-31 00:00:00 \n",
      "Количество пользователей в группе А - 503 \n",
      "Количество пользователей в группе B - 586 \n",
      "Количество пользователей попавших в обе группы - 58\n"
     ]
    }
   ],
   "source": [
    "print('Количество групп в АВ-тесте: ', orders['group'].nunique(),\n",
    "       '\\nДата начала теста', orders.date.min(),\n",
    "         '\\nДата окончания теста', orders.date.max(),\n",
    "'\\nКоличество пользователей в группе А -',\n",
    "      orders[orders.group == 'A']['visitorid'].nunique(),\n",
    "'\\nКоличество пользователей в группе B -', orders[orders.group == 'B']['visitorid'].nunique(),\n",
    " '\\nКоличество пользователей попавших в обе группы -',\n",
    "orders.loc[orders.group == 'B','visitorid'].drop_duplicates().isin(orders.loc[orders.group== 'A','visitorid'].unique()).sum())"
   ]
  },
  {
   "cell_type": "markdown",
   "id": "f0eeee57",
   "metadata": {},
   "source": [
    "### Построим рафик кумулятивной выручки по группам. "
   ]
  },
  {
   "cell_type": "code",
   "execution_count": 10,
   "id": "aaafdd70",
   "metadata": {},
   "outputs": [
    {
     "data": {
      "text/html": [
       "<div>\n",
       "<style scoped>\n",
       "    .dataframe tbody tr th:only-of-type {\n",
       "        vertical-align: middle;\n",
       "    }\n",
       "\n",
       "    .dataframe tbody tr th {\n",
       "        vertical-align: top;\n",
       "    }\n",
       "\n",
       "    .dataframe thead th {\n",
       "        text-align: right;\n",
       "    }\n",
       "</style>\n",
       "<table border=\"1\" class=\"dataframe\">\n",
       "  <thead>\n",
       "    <tr style=\"text-align: right;\">\n",
       "      <th></th>\n",
       "      <th>date</th>\n",
       "      <th>group</th>\n",
       "      <th>transaction</th>\n",
       "      <th>byuer</th>\n",
       "      <th>revenue</th>\n",
       "      <th>visitors</th>\n",
       "      <th>conversion</th>\n",
       "    </tr>\n",
       "  </thead>\n",
       "  <tbody>\n",
       "    <tr>\n",
       "      <th>0</th>\n",
       "      <td>2019-08-01</td>\n",
       "      <td>A</td>\n",
       "      <td>24</td>\n",
       "      <td>20</td>\n",
       "      <td>148579</td>\n",
       "      <td>719</td>\n",
       "      <td>0.033380</td>\n",
       "    </tr>\n",
       "    <tr>\n",
       "      <th>1</th>\n",
       "      <td>2019-08-01</td>\n",
       "      <td>B</td>\n",
       "      <td>21</td>\n",
       "      <td>20</td>\n",
       "      <td>101217</td>\n",
       "      <td>713</td>\n",
       "      <td>0.029453</td>\n",
       "    </tr>\n",
       "    <tr>\n",
       "      <th>2</th>\n",
       "      <td>2019-08-02</td>\n",
       "      <td>A</td>\n",
       "      <td>44</td>\n",
       "      <td>38</td>\n",
       "      <td>242401</td>\n",
       "      <td>1338</td>\n",
       "      <td>0.032885</td>\n",
       "    </tr>\n",
       "    <tr>\n",
       "      <th>3</th>\n",
       "      <td>2019-08-02</td>\n",
       "      <td>B</td>\n",
       "      <td>45</td>\n",
       "      <td>43</td>\n",
       "      <td>266748</td>\n",
       "      <td>1294</td>\n",
       "      <td>0.034776</td>\n",
       "    </tr>\n",
       "    <tr>\n",
       "      <th>4</th>\n",
       "      <td>2019-08-03</td>\n",
       "      <td>A</td>\n",
       "      <td>68</td>\n",
       "      <td>62</td>\n",
       "      <td>354874</td>\n",
       "      <td>1845</td>\n",
       "      <td>0.036856</td>\n",
       "    </tr>\n",
       "    <tr>\n",
       "      <th>...</th>\n",
       "      <td>...</td>\n",
       "      <td>...</td>\n",
       "      <td>...</td>\n",
       "      <td>...</td>\n",
       "      <td>...</td>\n",
       "      <td>...</td>\n",
       "      <td>...</td>\n",
       "    </tr>\n",
       "    <tr>\n",
       "      <th>57</th>\n",
       "      <td>2019-08-29</td>\n",
       "      <td>B</td>\n",
       "      <td>596</td>\n",
       "      <td>544</td>\n",
       "      <td>5559398</td>\n",
       "      <td>17708</td>\n",
       "      <td>0.033657</td>\n",
       "    </tr>\n",
       "    <tr>\n",
       "      <th>58</th>\n",
       "      <td>2019-08-30</td>\n",
       "      <td>A</td>\n",
       "      <td>545</td>\n",
       "      <td>493</td>\n",
       "      <td>4022970</td>\n",
       "      <td>18037</td>\n",
       "      <td>0.030216</td>\n",
       "    </tr>\n",
       "    <tr>\n",
       "      <th>59</th>\n",
       "      <td>2019-08-30</td>\n",
       "      <td>B</td>\n",
       "      <td>620</td>\n",
       "      <td>567</td>\n",
       "      <td>5774631</td>\n",
       "      <td>18198</td>\n",
       "      <td>0.034070</td>\n",
       "    </tr>\n",
       "    <tr>\n",
       "      <th>60</th>\n",
       "      <td>2019-08-31</td>\n",
       "      <td>A</td>\n",
       "      <td>557</td>\n",
       "      <td>503</td>\n",
       "      <td>4084803</td>\n",
       "      <td>18736</td>\n",
       "      <td>0.029729</td>\n",
       "    </tr>\n",
       "    <tr>\n",
       "      <th>61</th>\n",
       "      <td>2019-08-31</td>\n",
       "      <td>B</td>\n",
       "      <td>640</td>\n",
       "      <td>586</td>\n",
       "      <td>5907760</td>\n",
       "      <td>18916</td>\n",
       "      <td>0.033834</td>\n",
       "    </tr>\n",
       "  </tbody>\n",
       "</table>\n",
       "<p>62 rows × 7 columns</p>\n",
       "</div>"
      ],
      "text/plain": [
       "         date group  transaction  byuer  revenue  visitors  conversion\n",
       "0  2019-08-01     A           24     20   148579       719    0.033380\n",
       "1  2019-08-01     B           21     20   101217       713    0.029453\n",
       "2  2019-08-02     A           44     38   242401      1338    0.032885\n",
       "3  2019-08-02     B           45     43   266748      1294    0.034776\n",
       "4  2019-08-03     A           68     62   354874      1845    0.036856\n",
       "..        ...   ...          ...    ...      ...       ...         ...\n",
       "57 2019-08-29     B          596    544  5559398     17708    0.033657\n",
       "58 2019-08-30     A          545    493  4022970     18037    0.030216\n",
       "59 2019-08-30     B          620    567  5774631     18198    0.034070\n",
       "60 2019-08-31     A          557    503  4084803     18736    0.029729\n",
       "61 2019-08-31     B          640    586  5907760     18916    0.033834\n",
       "\n",
       "[62 rows x 7 columns]"
      ]
     },
     "execution_count": 10,
     "metadata": {},
     "output_type": "execute_result"
    }
   ],
   "source": [
    "datesGroups = orders[['date','group']].drop_duplicates() \n",
    "ordersAggregated = (datesGroups.apply(lambda x: \n",
    "            orders[np.logical_and(orders['date'] <= x['date'],\n",
    "            orders['group'] == x['group'])]\n",
    "    .agg({'date' : 'max', 'group' : 'max', 'transactionid' : 'nunique', \n",
    "      'visitorid' : 'nunique', 'revenue' : 'sum'}), axis=1)\n",
    ".sort_values(by=['date','group'])\n",
    ".rename(columns = {'transactionid':'transaction','visitorid': 'visitor'}))\n",
    "ordersAggregated\n",
    "visitorsAggregated = (datesGroups.apply(lambda x : \n",
    "                    visitors[np.logical_and(x['date']>= visitors['date'], x['group'] == visitors['group'])]\n",
    "                    .agg({'date':'max','group':'max','visitors':'sum'}),axis = 1).sort_values(by = ['date','group'])\n",
    "                    )\n",
    "cumulativeData = ordersAggregated.merge(visitorsAggregated, left_on=['date', 'group'], right_on=['date', 'group'])\\\n",
    ".rename(columns = {'visitor':'byuer'})\n",
    "#Создадим также сразу столбец с конверсиями\n",
    "cumulativeData['conversion'] = cumulativeData['transaction']/cumulativeData['visitors']\n",
    "\n",
    "cumulativeData"
   ]
  },
  {
   "cell_type": "code",
   "execution_count": 11,
   "id": "d4f116f6",
   "metadata": {},
   "outputs": [
    {
     "data": {
      "image/png": "[encoded data removed]",
      "text/plain": [
       "<Figure size 1584x720 with 1 Axes>"
      ]
     },
     "metadata": {},
     "output_type": "display_data"
    }
   ],
   "source": [
    "cumulativeDataA = cumulativeData[cumulativeData.group == 'A'][['date','revenue','transaction','conversion']]\n",
    "cumulativeDataB = cumulativeData[cumulativeData.group == 'B'][['date','revenue','transaction','conversion']]\n",
    "plt.rcParams['figure.figsize']= 22,10\n",
    "sns.set_style('darkgrid')\n",
    "\n",
    "plt.plot(cumulativeDataA.date,cumulativeDataA.revenue,label = 'A')\n",
    "plt.plot(cumulativeDataB.date,cumulativeDataB.revenue, label = 'B')\n",
    "plt.title('График кумулятивной выручки по группам')\n",
    "plt.rc('font', size= 18 ) \n",
    "plt.xlabel('Дата')\n",
    "plt.legend();"
   ]
  },
  {
   "cell_type": "markdown",
   "id": "b2b94482",
   "metadata": {},
   "source": [
    "С 1 августа до пятого группа А и группа B показывали одинаковый рост, затем группа B показывала рост чуть лучше чем группа А. 13 августа группы показывают одинаковые значения.После 13 августа группа Б растет сильнее группы А, а 18-19 августа происходит значительный разрыв в росте между А и B.Скорее всего количесто заказов с 18 августа  у группы Б выросло или появились очень дорогие заказы.Группы практически равномерно показывали рост весь месяц."
   ]
  },
  {
   "cell_type": "markdown",
   "id": "55503846",
   "metadata": {},
   "source": [
    "## Построим график кумулятивного среднего чека по группам. "
   ]
  },
  {
   "cell_type": "code",
   "execution_count": 12,
   "id": "e3e281d1",
   "metadata": {},
   "outputs": [
    {
     "data": {
      "image/png": "[encoded data removed]",
      "text/plain": [
       "<Figure size 1584x720 with 1 Axes>"
      ]
     },
     "metadata": {},
     "output_type": "display_data"
    }
   ],
   "source": [
    "plt.plot(cumulativeDataA.date,cumulativeDataA.revenue/cumulativeDataA.transaction, label = 'A')\n",
    "plt.plot(cumulativeDataB.date,cumulativeDataB.revenue/cumulativeDataB.transaction, label = 'B')\n",
    "plt.title('График кумулятивного среднего чека по группам')\n",
    "plt.rc('font', size= 18 ) \n",
    "plt.xlabel('Дата')\n",
    "plt.legend();"
   ]
  },
  {
   "cell_type": "markdown",
   "id": "813fbd48",
   "metadata": {},
   "source": [
    "C 1 августа сегмент B по среднему чеку показывал рост с небольшими просадками,а сегмент А вначале просел ,упал ниже 5000 но с 7 августа показал рост и к середине месяца группы А и B практически сравнялись. Затем 18-19 августа у сегмента B произошел резкий скачок стоимости среднего чека ,цена выросла с 7000 и стала   выше 10000"
   ]
  },
  {
   "cell_type": "markdown",
   "id": "066ea8f9",
   "metadata": {},
   "source": [
    "## Построим график относительного изменения кумулятивного среднего чека группы B к группе A.\n"
   ]
  },
  {
   "cell_type": "code",
   "execution_count": 13,
   "id": "ba0575c4",
   "metadata": {},
   "outputs": [
    {
     "data": {
      "text/plain": [
       "Text(0.5, 0, 'Дата')"
      ]
     },
     "execution_count": 13,
     "metadata": {},
     "output_type": "execute_result"
    },
    {
     "data": {
      "image/png": "[encoded data removed]",
      "text/plain": [
       "<Figure size 1584x720 with 1 Axes>"
      ]
     },
     "metadata": {},
     "output_type": "display_data"
    }
   ],
   "source": [
    "cumulativedata_A_B = cumulativeDataA.merge(\n",
    "    cumulativeDataB, left_on = 'date', \n",
    "    right_on = 'date',suffixes = ['A', 'B'])\n",
    "plt.plot(cumulativedata_A_B.date, (cumulativedata_A_B.revenueB/cumulativedata_A_B.transactionB)/\n",
    "         (cumulativedata_A_B.revenueA/cumulativedata_A_B.transactionA)-1,)\n",
    "plt.title('График отношения кумулятивного среднего чека группы B к группе A')\n",
    "plt.axhline(y = 0,color = 'red',linestyle = '--')\n",
    "plt.rc('font', size= 21 ) \n",
    "plt.xlabel('Дата')"
   ]
  },
  {
   "cell_type": "markdown",
   "id": "8133906b",
   "metadata": {},
   "source": [
    " С 1 августа  группа Б в среднем больше группы А на 30-40%, с 11 до 15 августа группа А на 10-15% больше группы Б. А вот с 18-19 группа Б больше группы А на 50% и в среднем до 25 августа А больше Б на 40+%, с 29.08 и до конца месяца сегмент Б больше сегмента А на 25+%\n",
    " "
   ]
  },
  {
   "cell_type": "markdown",
   "id": "ff9d77bf",
   "metadata": {},
   "source": [
    "## Построим график кумулятивного среднего количества заказов на посетителя по группам. "
   ]
  },
  {
   "cell_type": "code",
   "execution_count": 14,
   "id": "c018dd10",
   "metadata": {},
   "outputs": [
    {
     "data": {
      "text/plain": [
       "Text(0.5, 0, 'Дата')"
      ]
     },
     "execution_count": 14,
     "metadata": {},
     "output_type": "execute_result"
    },
    {
     "data": {
      "image/png": "[encoded data removed]",
      "text/plain": [
       "<Figure size 1584x720 with 1 Axes>"
      ]
     },
     "metadata": {},
     "output_type": "display_data"
    }
   ],
   "source": [
    "plt.plot(cumulativeDataA['date'], cumulativeDataA['conversion'], label='A')\n",
    "plt.plot(cumulativeDataB['date'], cumulativeDataB['conversion'], label='B')\n",
    "plt.legend()\n",
    "plt.axis([dt.datetime(2019, 8, 1), dt.datetime(2019, 9, 1), 0.025, 0.04])\n",
    "plt.rc('font', size= 18 ) \n",
    "plt.title('График кумулятивного среднего количества заказов на посетителя по группам')\n",
    "plt.xlabel('Дата')\n",
    "\n"
   ]
  },
  {
   "cell_type": "markdown",
   "id": "f6a49528",
   "metadata": {},
   "source": [
    "Конверсия у покупателей группы А идет с начала месяца 0.034 и доходит до 0.03 , пользователей группы Б начинается с 3% и заканчиавется затем увеличивается до 3.6 и доходит до 3.4 к концу месяца. В среднем конверсия у пользователей Б больше чем у А "
   ]
  },
  {
   "cell_type": "markdown",
   "id": "4020dd51",
   "metadata": {},
   "source": [
    "## Построим график относительного изменения кумулятивного среднего количества заказов на посетителя группы B к группе A. \n"
   ]
  },
  {
   "cell_type": "code",
   "execution_count": 15,
   "id": "bb30177f",
   "metadata": {},
   "outputs": [
    {
     "data": {
      "text/plain": [
       "Text(0.5, 0, 'Дата')"
      ]
     },
     "execution_count": 15,
     "metadata": {},
     "output_type": "execute_result"
    },
    {
     "data": {
      "image/png": "[encoded data removed]",
      "text/plain": [
       "<Figure size 1584x720 with 1 Axes>"
      ]
     },
     "metadata": {},
     "output_type": "display_data"
    }
   ],
   "source": [
    "plt.plot(cumulativedata_A_B.date,cumulativedata_A_B.conversionB/cumulativedata_A_B.conversionA-1)\n",
    "plt.title('edf;t')\n",
    "plt.axhline(y = 0.2 ,color = 'red', linestyle = '--')\n",
    "plt.axhline(y = 0,color = 'red', linestyle = '--')\n",
    "plt.axis([dt.datetime(2019, 8, 1), dt.datetime(2019, 9, 1),-0.3,0.4])\n",
    "plt.rc('font', size= 18 ) \n",
    "plt.title('График относительного изменения кумулятивной конверсии группы B к группе A')\n",
    "plt.xlabel('Дата')\n"
   ]
  },
  {
   "cell_type": "markdown",
   "id": "72977124",
   "metadata": {},
   "source": [
    "До 5 августа конверсия у сегмента А была лучше, чем у Б, после 5 августа конверсия лучше  у группы Б ,разница доходит до 20 процентов, но в среднем держится на 12-15% "
   ]
  },
  {
   "cell_type": "markdown",
   "id": "ce1376b9",
   "metadata": {},
   "source": [
    "## Построим точечный график количества заказов по пользователям. "
   ]
  },
  {
   "cell_type": "code",
   "execution_count": 16,
   "id": "0ac9eca8",
   "metadata": {},
   "outputs": [
    {
     "data": {
      "text/html": [
       "<div>\n",
       "<style scoped>\n",
       "    .dataframe tbody tr th:only-of-type {\n",
       "        vertical-align: middle;\n",
       "    }\n",
       "\n",
       "    .dataframe tbody tr th {\n",
       "        vertical-align: top;\n",
       "    }\n",
       "\n",
       "    .dataframe thead th {\n",
       "        text-align: right;\n",
       "    }\n",
       "</style>\n",
       "<table border=\"1\" class=\"dataframe\">\n",
       "  <thead>\n",
       "    <tr style=\"text-align: right;\">\n",
       "      <th></th>\n",
       "      <th>1023</th>\n",
       "      <th>591</th>\n",
       "      <th>569</th>\n",
       "      <th>487</th>\n",
       "      <th>44</th>\n",
       "      <th>744</th>\n",
       "      <th>55</th>\n",
       "      <th>917</th>\n",
       "      <th>299</th>\n",
       "      <th>897</th>\n",
       "      <th>393</th>\n",
       "      <th>114</th>\n",
       "      <th>619</th>\n",
       "      <th>340</th>\n",
       "      <th>937</th>\n",
       "    </tr>\n",
       "  </thead>\n",
       "  <tbody>\n",
       "    <tr>\n",
       "      <th>visitorid</th>\n",
       "      <td>4256040402</td>\n",
       "      <td>2458001652</td>\n",
       "      <td>2378935119</td>\n",
       "      <td>2038680547</td>\n",
       "      <td>199603092</td>\n",
       "      <td>3062433592</td>\n",
       "      <td>237748145</td>\n",
       "      <td>3803269165</td>\n",
       "      <td>1230306981</td>\n",
       "      <td>3717692402</td>\n",
       "      <td>1614305549</td>\n",
       "      <td>457167155</td>\n",
       "      <td>2587333274</td>\n",
       "      <td>1404934699</td>\n",
       "      <td>3908431265</td>\n",
       "    </tr>\n",
       "    <tr>\n",
       "      <th>transactionid</th>\n",
       "      <td>11</td>\n",
       "      <td>11</td>\n",
       "      <td>9</td>\n",
       "      <td>8</td>\n",
       "      <td>5</td>\n",
       "      <td>5</td>\n",
       "      <td>5</td>\n",
       "      <td>5</td>\n",
       "      <td>5</td>\n",
       "      <td>5</td>\n",
       "      <td>4</td>\n",
       "      <td>4</td>\n",
       "      <td>4</td>\n",
       "      <td>3</td>\n",
       "      <td>3</td>\n",
       "    </tr>\n",
       "  </tbody>\n",
       "</table>\n",
       "</div>"
      ],
      "text/plain": [
       "                     1023        591         569         487        44    \\\n",
       "visitorid      4256040402  2458001652  2378935119  2038680547  199603092   \n",
       "transactionid          11          11           9           8          5   \n",
       "\n",
       "                     744        55          917         299         897   \\\n",
       "visitorid      3062433592  237748145  3803269165  1230306981  3717692402   \n",
       "transactionid           5          5           5           5           5   \n",
       "\n",
       "                     393        114         619         340         937   \n",
       "visitorid      1614305549  457167155  2587333274  1404934699  3908431265  \n",
       "transactionid           4          4           4           3           3  "
      ]
     },
     "metadata": {},
     "output_type": "display_data"
    },
    {
     "data": {
      "text/plain": [
       "Text(0, 0.5, 'Количество заказов')"
      ]
     },
     "execution_count": 16,
     "metadata": {},
     "output_type": "execute_result"
    },
    {
     "data": {
      "image/png": "[encoded data removed]",
      "text/plain": [
       "<Figure size 1584x720 with 1 Axes>"
      ]
     },
     "metadata": {},
     "output_type": "display_data"
    }
   ],
   "source": [
    "ordersUsers = (\n",
    "    orders.groupby('visitorid', as_index=False)\n",
    "    .agg({'transactionid': 'nunique'})\n",
    ")\n",
    "display(ordersUsers.sort_values(by = 'transactionid', ascending = False).head(15).T)\n",
    "x_values = pd.Series(range(len(ordersUsers['transactionid'])))\n",
    "plt.scatter(x_values, ordersUsers['transactionid'])\n",
    "plt.title('Точечный график количества заказов по пользователям')\n",
    "\n",
    "plt.rc('font', size= 18 ) \n",
    "\n",
    "plt.ylabel('Количество заказов')"
   ]
  },
  {
   "cell_type": "markdown",
   "id": "b3366576",
   "metadata": {},
   "source": [
    "Как и ожидалось большинство пользователей сделали по заказу, но есть и те кто сделал 2 и более.Их точная доля не ясна — непонятно, считать их аномалиями или нет. Поэтому посчитаем выборочные перцентили количества заказов на одного пользователя"
   ]
  },
  {
   "cell_type": "markdown",
   "id": "059bea40",
   "metadata": {},
   "source": [
    "## Посчитаем 95-й и 99-й перцентили количества заказов на пользователя.\n"
   ]
  },
  {
   "cell_type": "code",
   "execution_count": 17,
   "id": "bce92bb3",
   "metadata": {},
   "outputs": [
    {
     "name": "stdout",
     "output_type": "stream",
     "text": [
      "[1. 2. 4.] \n",
      "Пользователи  с 2 заказами- 64 \n",
      "Пользователи  с 3 и более - 30\n"
     ]
    }
   ],
   "source": [
    "print(np.percentile(ordersUsers['transactionid'], [ 90,95, 99]),\n",
    "     \"\\nПользователи  с 2 заказами-\" ,ordersUsers[ordersUsers.transactionid == 2].count()['transactionid'],\n",
    "     \"\\nПользователи  с 3 и более -\",  ordersUsers[ordersUsers.transactionid > 2].count()['transactionid'] ) "
   ]
  },
  {
   "cell_type": "markdown",
   "id": "1fa78b40",
   "metadata": {},
   "source": [
    "Итак не более 5 % покупателей оформили больше двух закаказов и не более 1% пользователей совершили 4 и более покупки.Пользователей с 3 и более заказами уберем ,с двумя оставим "
   ]
  },
  {
   "cell_type": "markdown",
   "id": "a7ee00b2",
   "metadata": {},
   "source": [
    "## Построим точечный график стоимостей заказов."
   ]
  },
  {
   "cell_type": "code",
   "execution_count": 18,
   "id": "96c70fba",
   "metadata": {},
   "outputs": [
    {
     "data": {
      "image/png": "[encoded data removed]",
      "text/plain": [
       "<Figure size 1584x720 with 1 Axes>"
      ]
     },
     "metadata": {},
     "output_type": "display_data"
    }
   ],
   "source": [
    "x_values = pd.Series(range(0, len(orders['revenue'])))\n",
    "plt.scatter(x_values, orders['revenue']);\n",
    "plt.title('Точечный график стоимостей заказов')\n",
    "plt.ylabel('Стоимость заказа ')\n",
    "plt.rc('font', size= 18 )"
   ]
  },
  {
   "cell_type": "markdown",
   "id": "fefa6190",
   "metadata": {},
   "source": [
    "НА графике видно заказ на сумму более 1.2 миллионов,что ,конечно, является анамалией.Большинство заказов меньше 100000"
   ]
  },
  {
   "cell_type": "markdown",
   "id": "80ccef2b",
   "metadata": {},
   "source": [
    "## Посчитаем 95-й и 99-й перцентили стоимости заказов."
   ]
  },
  {
   "cell_type": "code",
   "execution_count": 19,
   "id": "ba002e23",
   "metadata": {},
   "outputs": [
    {
     "name": "stdout",
     "output_type": "stream",
     "text": [
      "[18168.  28000.  58233.2]\n"
     ]
    }
   ],
   "source": [
    "print(np.percentile(orders['revenue'], [90,95, 99])) "
   ]
  },
  {
   "cell_type": "markdown",
   "id": "f25b207c",
   "metadata": {},
   "source": [
    "Итак 10% покупателкей совершили покупку на сумму более 18168, 5%  на сумму более 28000, 1% -  58233.2. Нижней границей будет 28000"
   ]
  },
  {
   "cell_type": "markdown",
   "id": "47ede844",
   "metadata": {},
   "source": [
    "## Посчитаем статистическую значимость различий в среднем количестве заказов на посетителя между группами по «сырым» данным"
   ]
  },
  {
   "cell_type": "markdown",
   "id": "b80b1609",
   "metadata": {},
   "source": [
    "- Нулевая гипотеза -  различий в конверсии между группами нет.\n",
    "\n",
    "- Альтернативная гипотеза -  различия в конверсии между группами есть."
   ]
  },
  {
   "cell_type": "code",
   "execution_count": 20,
   "id": "6edad7ce",
   "metadata": {},
   "outputs": [],
   "source": [
    "visitorsADaily = visitors[visitors['group'] == 'A'][['date', 'visitors']]\n",
    "visitorsADaily.columns = ['date', 'visitorsPerDateA']\n",
    "\n",
    "visitorsACummulative = visitorsADaily.apply(\n",
    "    lambda x: visitorsADaily[visitorsADaily['date'] <= x['date']].agg(\n",
    "        {'date': 'max', 'visitorsPerDateA': 'sum'}\n",
    "    ),\n",
    "    axis=1,\n",
    ")\n",
    "visitorsACummulative.columns = ['date', 'visitorsCummulativeA']\n",
    "\n",
    "visitorsBDaily = visitors[visitors['group'] == 'B'][['date', 'visitors']]\n",
    "visitorsBDaily.columns = ['date', 'visitorsPerDateB']\n",
    "\n",
    "visitorsBCummulative = visitorsBDaily.apply(\n",
    "    lambda x: visitorsBDaily[visitorsBDaily['date'] <= x['date']].agg(\n",
    "        {'date': 'max', 'visitorsPerDateB': 'sum'}\n",
    "    ),\n",
    "    axis=1,\n",
    ")\n",
    "visitorsBCummulative.columns = ['date', 'visitorsCummulativeB']\n",
    "\n",
    "ordersADaily = (\n",
    "    orders[orders['group'] == 'A'][['date', 'transactionid', 'visitorid', 'revenue']]\n",
    "    .groupby('date', as_index=False)\n",
    "    .agg({'transactionid': 'nunique', 'revenue': 'sum'})\n",
    ")\n",
    "ordersADaily.columns = ['date', 'ordersPerDateA', 'revenuePerDateA']\n",
    "\n",
    "ordersACummulative = ordersADaily.apply(\n",
    "    lambda x: ordersADaily[ordersADaily['date'] <= x['date']].agg(\n",
    "        {'date': 'max', 'ordersPerDateA': 'sum', 'revenuePerDateA': 'sum'}\n",
    "    ),\n",
    "    axis=1,\n",
    ").sort_values(by=['date'])\n",
    "ordersACummulative.columns = [\n",
    "    'date',\n",
    "    'ordersCummulativeA',\n",
    "    'revenueCummulativeA',\n",
    "]\n",
    "\n",
    "ordersBDaily = (\n",
    "    orders[orders['group'] == 'B'][['date', 'transactionid', 'visitorid', 'revenue']]\n",
    "    .groupby('date', as_index=False)\n",
    "    .agg({'transactionid': 'nunique', 'revenue': 'sum'})\n",
    ")\n",
    "ordersBDaily.columns = ['date', 'ordersPerDateB', 'revenuePerDateB']\n",
    "\n",
    "ordersBCummulative = ordersBDaily.apply(\n",
    "    lambda x: ordersBDaily[ordersBDaily['date'] <= x['date']].agg(\n",
    "        {'date': 'max', 'ordersPerDateB': 'sum', 'revenuePerDateB': 'sum'}\n",
    "    ),\n",
    "    axis=1,\n",
    ").sort_values(by=['date'])\n",
    "ordersBCummulative.columns = [\n",
    "    'date',\n",
    "    'ordersCummulativeB',\n",
    "    'revenueCummulativeB',\n",
    "]\n",
    "\n",
    "data = (\n",
    "    ordersADaily.merge(\n",
    "        ordersBDaily, left_on='date', right_on='date', how='left'\n",
    "    )\n",
    "    .merge(ordersACummulative, left_on='date', right_on='date', how='left')\n",
    "    .merge(ordersBCummulative, left_on='date', right_on='date', how='left')\n",
    "    .merge(visitorsADaily, left_on='date', right_on='date', how='left')\n",
    "    .merge(visitorsBDaily, left_on='date', right_on='date', how='left')\n",
    "    .merge(visitorsACummulative, left_on='date', right_on='date', how='left')\n",
    "    .merge(visitorsBCummulative, left_on='date', right_on='date', how='left')\n",
    ")\n",
    "ordersByUsersA = (\n",
    "    orders[orders['group'] == 'A']\n",
    "    .groupby('visitorid', as_index=False)\n",
    "    .agg({'transactionid': 'nunique'})\n",
    ")\n",
    "ordersByUsersA.columns = ['userId', 'orders']\n",
    "\n",
    "ordersByUsersB = (\n",
    "    orders[orders['group'] == 'B']\n",
    "    .groupby('visitorid', as_index=False)\n",
    "    .agg({'transactionid': 'nunique'})\n",
    ")\n",
    "ordersByUsersB.columns = ['userId', 'orders'] "
   ]
  },
  {
   "cell_type": "code",
   "execution_count": 21,
   "id": "87ff7dfc",
   "metadata": {},
   "outputs": [
    {
     "name": "stdout",
     "output_type": "stream",
     "text": [
      "0.01679\n",
      "0.138\n"
     ]
    }
   ],
   "source": [
    "sampleA = pd.concat([ordersByUsersA['orders'],pd.Series(0, index=np.arange(data['visitorsPerDateA'].sum() - len(ordersByUsersA['orders'])), name='orders')],axis=0)\n",
    "\n",
    "sampleB = pd.concat([ordersByUsersB['orders'],pd.Series(0, index=np.arange(data['visitorsPerDateB'].sum() - len(ordersByUsersB['orders'])), name='orders')],axis=0)\n",
    "\n",
    "print(\"{0:.5f}\".format(stats.mannwhitneyu(sampleA, sampleB)[1]))\n",
    "\n",
    "print(\"{0:.3f}\".format(sampleB.mean() / sampleA.mean() - 1))"
   ]
  },
  {
   "cell_type": "markdown",
   "id": "054d5b4a",
   "metadata": {},
   "source": [
    "p-value значительно меньше 0.05 Отсюда следует, что разница между конверсиями все же есть. Отношение Конверсии группы В к конверсии группы А равно 13,8%, в пользу Б"
   ]
  },
  {
   "cell_type": "markdown",
   "id": "775d489c",
   "metadata": {},
   "source": [
    "## Посчитаем статистическую значимость различий в среднем чеке заказа между группами по «сырым» данным. \n",
    "\n"
   ]
  },
  {
   "cell_type": "markdown",
   "id": "83f84e0b",
   "metadata": {},
   "source": [
    " - Нулевая гипотеза - различий в среднем чеке между группами нет.\n",
    "\n",
    "- Альтернативная гипотеза - различия в среднем чеке между группами есть."
   ]
  },
  {
   "cell_type": "code",
   "execution_count": 22,
   "id": "7774876d",
   "metadata": {},
   "outputs": [
    {
     "name": "stdout",
     "output_type": "stream",
     "text": [
      "0.7293\n",
      "0.259\n"
     ]
    }
   ],
   "source": [
    "print('{0:.4f}'.format(stats.mannwhitneyu(orders[orders['group']=='A']['revenue'], \n",
    "                                          orders[orders['group']=='B']['revenue'])[1]))\n",
    "print('{0:.3f}'.format(orders[orders['group']=='B']['revenue']\n",
    "                       .mean()/orders[orders['group']=='A']['revenue']\n",
    "                       .mean()-1)) "
   ]
  },
  {
   "cell_type": "markdown",
   "id": "339c9c08",
   "metadata": {},
   "source": [
    "p-value значительно превосходит 0.05 ,а это значит , что статистически значимых отличий в среднем чеке между группами нет. разница среднего чека между А И Б - 25,9%."
   ]
  },
  {
   "cell_type": "markdown",
   "id": "412c98e7",
   "metadata": {},
   "source": [
    "## Посчитаем статистическую значимость различий в среднем количестве заказов на посетителя между группами по «очищенным» данным.\n"
   ]
  },
  {
   "cell_type": "markdown",
   "id": "30eec246",
   "metadata": {},
   "source": [
    "- Нулевая гипотеза -  различий в конверсии между группами по «очищенным» данным нет.\n",
    "\n",
    "- Альтернативная гипотеза -  различия в конверсии между группами по «очищенным» данным есть."
   ]
  },
  {
   "cell_type": "code",
   "execution_count": 23,
   "id": "8a46ef5f",
   "metadata": {},
   "outputs": [
    {
     "name": "stdout",
     "output_type": "stream",
     "text": [
      "0.01304\n",
      "0.173\n"
     ]
    }
   ],
   "source": [
    "usersWithManyOrders = pd.concat(\n",
    "    [\n",
    "        ordersByUsersA[ordersByUsersA['orders'] > 2]['userId'],\n",
    "        ordersByUsersB[ordersByUsersB['orders'] > 2]['userId'],\n",
    "    ],\n",
    "    axis=0,\n",
    ")\n",
    "usersWithExpensiveOrders = orders[orders['revenue'] > 28000]['visitorid']\n",
    "abnormalUsers = (\n",
    "    pd.concat([usersWithManyOrders, usersWithExpensiveOrders], axis=0)\n",
    "    .drop_duplicates()\n",
    "    .sort_values()\n",
    ")\n",
    "sampleAFiltered = pd.concat(\n",
    "    [\n",
    "        ordersByUsersA[\n",
    "            np.logical_not(ordersByUsersA['userId'].isin(abnormalUsers))\n",
    "        ]['orders'],\n",
    "        pd.Series(\n",
    "            0,\n",
    "            index=np.arange(\n",
    "                data['visitorsPerDateA'].sum() - len(ordersByUsersA['orders'])\n",
    "            ),\n",
    "            name='orders',\n",
    "        ),\n",
    "    ],\n",
    "    axis=0,\n",
    ")\n",
    "\n",
    "sampleBFiltered = pd.concat(\n",
    "    [\n",
    "        ordersByUsersB[\n",
    "            np.logical_not(ordersByUsersB['userId'].isin(abnormalUsers))\n",
    "        ]['orders'],\n",
    "        pd.Series(\n",
    "            0,\n",
    "            index=np.arange(\n",
    "                data['visitorsPerDateB'].sum() - len(ordersByUsersB['orders'])\n",
    "            ),\n",
    "            name='orders',\n",
    "        ),\n",
    "    ],\n",
    "    axis=0,\n",
    ")\n",
    "print('{0:.5f}'.format(stats.mannwhitneyu(sampleAFiltered, sampleBFiltered,alternative=\"two-sided\")[1]))\n",
    "print('{0:.3f}'.format(sampleBFiltered.mean()/sampleAFiltered.mean()-1)) \n"
   ]
  },
  {
   "cell_type": "markdown",
   "id": "0d0f2fde",
   "metadata": {},
   "source": [
    "P-value значительно меньше 0,05,а это значит, что нулевую гипотезу отвергаем,также как и сырыми данными.У Сегмент В конверсия оказалась лучше  на 17,3%. До очистки было 13,8."
   ]
  },
  {
   "cell_type": "markdown",
   "id": "c2faddd5",
   "metadata": {},
   "source": [
    "## Посчитаем статистическую значимость различий в среднем чеке заказа между группами по «очищенным» данным. Сделайте выводы и предположения.\n"
   ]
  },
  {
   "cell_type": "markdown",
   "id": "4599f97a",
   "metadata": {},
   "source": [
    " - Нулевая гипотеза - различий в среднем чеке между группами  по «очищенным» данным нет.\n",
    "\n",
    "- Альтернативная гипотеза - различия в среднем чеке между группами по «очищенным» данным есть"
   ]
  },
  {
   "cell_type": "code",
   "execution_count": 24,
   "id": "c558575d",
   "metadata": {},
   "outputs": [
    {
     "name": "stdout",
     "output_type": "stream",
     "text": [
      "0.738\n",
      "-0.020\n"
     ]
    }
   ],
   "source": [
    "print(\n",
    "    '{0:.3f}'.format(\n",
    "        stats.mannwhitneyu(\n",
    "            orders[\n",
    "                np.logical_and(\n",
    "                    orders['group'] == 'A',\n",
    "                    np.logical_not(orders['visitorid'].isin(abnormalUsers)),\n",
    "                )\n",
    "            ]['revenue'],\n",
    "            orders[\n",
    "                np.logical_and(\n",
    "                    orders['group'] == 'B',\n",
    "                    np.logical_not(orders['visitorid'].isin(abnormalUsers)),\n",
    "                )\n",
    "            ]['revenue'],alternative=\"two-sided\"\n",
    "        )[1]\n",
    "    )\n",
    ")\n",
    "\n",
    "print(\n",
    "    \"{0:.3f}\".format(\n",
    "        orders[\n",
    "            np.logical_and(\n",
    "                orders['group'] == 'B',\n",
    "                np.logical_not(orders['visitorid'].isin(abnormalUsers)),\n",
    "            )\n",
    "        ]['revenue'].mean()\n",
    "        / orders[\n",
    "            np.logical_and(\n",
    "                orders['group'] == 'A',\n",
    "                np.logical_not(orders['visitorid'].isin(abnormalUsers)),\n",
    "            )\n",
    "        ]['revenue'].mean()\n",
    "        - 1\n",
    "    )\n",
    ")"
   ]
  },
  {
   "cell_type": "markdown",
   "id": "9edeb71a",
   "metadata": {},
   "source": [
    "p-value - 0.738 осталось примерно на таком же уровне, что и до очистки данных,а отсюда следует что нулевую гипотезу мы отвергнуть не сможет.Что касается среднего чека группы B, то он снизился ,настолько ,что теперь уступает группе А,правда, всего 2%.То есть с \"чистыми\" данными практически нет разницы в среднем чеке между группами\n"
   ]
  },
  {
   "cell_type": "markdown",
   "id": "57a691fe",
   "metadata": {},
   "source": [
    "## Вывод\n"
   ]
  },
  {
   "cell_type": "markdown",
   "id": "9117c2cf",
   "metadata": {},
   "source": [
    "<div style=\"border:solid Chocolate 2px; padding: 40px\">\n",
    "\n",
    "По результатом анализа было принято решение - остановить тест, а также зафиксировать победу группы B по конверсии.Так результаты теста показали , что есть статистически значимое различие по конверсии между группами,это касается и сирых данных ,и данных после очистки.Разница между конверсией группы А и Б составили 13,8% до очистки и 17,3% процента после , в пользу группы Б.\n",
    "Что касается среднего чека,то не было зафиксировано статистически значимых различий между группами"
   ]
  }
 ],
 "metadata": {
  "ExecuteTimeLog": [
   {
    "duration": 71,
    "start_time": "2023-02-11T09:19:39.001Z"
   },
   {
    "duration": 1298,
    "start_time": "2023-02-11T09:19:46.940Z"
   },
   {
    "duration": 324,
    "start_time": "2023-02-11T09:19:48.240Z"
   },
   {
    "duration": 12,
    "start_time": "2023-02-11T09:19:48.566Z"
   },
   {
    "duration": 12,
    "start_time": "2023-02-11T09:19:48.580Z"
   },
   {
    "duration": 13,
    "start_time": "2023-02-11T09:19:48.594Z"
   },
   {
    "duration": 17,
    "start_time": "2023-02-11T09:19:50.322Z"
   },
   {
    "duration": 21,
    "start_time": "2023-02-11T09:19:51.819Z"
   },
   {
    "duration": 18,
    "start_time": "2023-02-11T09:20:00.421Z"
   },
   {
    "duration": 291,
    "start_time": "2023-02-11T09:20:18.966Z"
   },
   {
    "duration": 500,
    "start_time": "2023-02-11T09:20:19.847Z"
   },
   {
    "duration": 386,
    "start_time": "2023-02-11T09:21:04.620Z"
   },
   {
    "duration": 352,
    "start_time": "2023-02-11T09:21:12.018Z"
   },
   {
    "duration": 526,
    "start_time": "2023-02-11T09:21:12.692Z"
   },
   {
    "duration": 353,
    "start_time": "2023-02-11T09:21:13.337Z"
   },
   {
    "duration": 455,
    "start_time": "2023-02-11T09:21:14.015Z"
   },
   {
    "duration": 241,
    "start_time": "2023-02-11T09:21:14.968Z"
   },
   {
    "duration": 9,
    "start_time": "2023-02-11T09:21:20.896Z"
   },
   {
    "duration": 246,
    "start_time": "2023-02-11T09:21:22.459Z"
   },
   {
    "duration": 5,
    "start_time": "2023-02-11T09:21:23.357Z"
   },
   {
    "duration": 291,
    "start_time": "2023-02-11T09:21:24.607Z"
   },
   {
    "duration": 24,
    "start_time": "2023-02-11T09:21:24.983Z"
   },
   {
    "duration": 17,
    "start_time": "2023-02-11T09:21:26.721Z"
   },
   {
    "duration": 32,
    "start_time": "2023-02-11T09:21:28.051Z"
   },
   {
    "duration": 15,
    "start_time": "2023-02-11T09:21:29.042Z"
   },
   {
    "duration": 5,
    "start_time": "2023-02-11T09:40:23.075Z"
   },
   {
    "duration": 12,
    "start_time": "2023-02-11T09:50:29.934Z"
   },
   {
    "duration": 20,
    "start_time": "2023-02-11T09:50:48.363Z"
   },
   {
    "duration": 75,
    "start_time": "2023-02-11T09:51:31.886Z"
   },
   {
    "duration": 22,
    "start_time": "2023-02-11T09:51:41.835Z"
   },
   {
    "duration": 5,
    "start_time": "2023-02-11T09:52:17.705Z"
   },
   {
    "duration": 7,
    "start_time": "2023-02-11T09:52:34.088Z"
   },
   {
    "duration": 8,
    "start_time": "2023-02-11T09:52:52.666Z"
   },
   {
    "duration": 8,
    "start_time": "2023-02-11T09:53:00.920Z"
   },
   {
    "duration": 6,
    "start_time": "2023-02-11T09:53:21.499Z"
   },
   {
    "duration": 46,
    "start_time": "2023-02-11T09:53:37.404Z"
   },
   {
    "duration": 7,
    "start_time": "2023-02-11T09:53:43.336Z"
   },
   {
    "duration": 7,
    "start_time": "2023-02-11T09:53:53.960Z"
   },
   {
    "duration": 6,
    "start_time": "2023-02-11T09:54:04.029Z"
   },
   {
    "duration": 6,
    "start_time": "2023-02-11T09:54:08.087Z"
   },
   {
    "duration": 14,
    "start_time": "2023-02-11T09:54:46.680Z"
   },
   {
    "duration": 13,
    "start_time": "2023-02-11T09:55:54.531Z"
   },
   {
    "duration": 9,
    "start_time": "2023-02-11T09:55:59.278Z"
   },
   {
    "duration": 52,
    "start_time": "2023-02-11T09:57:15.078Z"
   },
   {
    "duration": 9,
    "start_time": "2023-02-11T09:57:33.598Z"
   },
   {
    "duration": 9,
    "start_time": "2023-02-11T09:59:33.967Z"
   },
   {
    "duration": 9,
    "start_time": "2023-02-11T09:59:49.535Z"
   },
   {
    "duration": 45,
    "start_time": "2023-02-11T10:01:59.748Z"
   },
   {
    "duration": 51,
    "start_time": "2023-02-11T10:02:07.784Z"
   },
   {
    "duration": 8,
    "start_time": "2023-02-11T10:02:15.760Z"
   },
   {
    "duration": 9,
    "start_time": "2023-02-11T10:02:59.868Z"
   },
   {
    "duration": 15,
    "start_time": "2023-02-11T10:03:09.946Z"
   },
   {
    "duration": 8,
    "start_time": "2023-02-11T10:03:17.270Z"
   },
   {
    "duration": 45,
    "start_time": "2023-02-11T10:03:28.511Z"
   },
   {
    "duration": 9,
    "start_time": "2023-02-11T10:03:51.562Z"
   },
   {
    "duration": 12,
    "start_time": "2023-02-11T10:04:15.362Z"
   },
   {
    "duration": 668,
    "start_time": "2023-02-11T10:04:27.361Z"
   },
   {
    "duration": 727,
    "start_time": "2023-02-11T10:04:31.585Z"
   },
   {
    "duration": 411,
    "start_time": "2023-02-11T10:04:52.302Z"
   },
   {
    "duration": 12,
    "start_time": "2023-02-11T10:04:58.991Z"
   },
   {
    "duration": 29,
    "start_time": "2023-02-11T10:05:12.310Z"
   },
   {
    "duration": 800,
    "start_time": "2023-02-11T10:05:16.418Z"
   },
   {
    "duration": 10,
    "start_time": "2023-02-11T10:05:33.688Z"
   },
   {
    "duration": 12,
    "start_time": "2023-02-11T10:05:50.530Z"
   },
   {
    "duration": 11,
    "start_time": "2023-02-11T10:06:10.103Z"
   },
   {
    "duration": 61,
    "start_time": "2023-02-11T10:07:20.299Z"
   },
   {
    "duration": 12,
    "start_time": "2023-02-11T10:07:27.380Z"
   },
   {
    "duration": 12,
    "start_time": "2023-02-11T10:07:37.586Z"
   },
   {
    "duration": 17,
    "start_time": "2023-02-11T10:08:35.025Z"
   },
   {
    "duration": 11,
    "start_time": "2023-02-11T10:09:18.284Z"
   },
   {
    "duration": 43,
    "start_time": "2023-02-11T10:11:10.326Z"
   },
   {
    "duration": 12,
    "start_time": "2023-02-11T10:11:17.633Z"
   },
   {
    "duration": 12,
    "start_time": "2023-02-11T10:11:26.235Z"
   },
   {
    "duration": 11,
    "start_time": "2023-02-11T10:11:59.935Z"
   },
   {
    "duration": 41,
    "start_time": "2023-02-11T10:12:51.963Z"
   },
   {
    "duration": 12,
    "start_time": "2023-02-11T10:13:06.940Z"
   },
   {
    "duration": 14,
    "start_time": "2023-02-11T10:13:33.261Z"
   },
   {
    "duration": 11,
    "start_time": "2023-02-11T10:13:52.693Z"
   },
   {
    "duration": 6,
    "start_time": "2023-02-11T10:14:34.844Z"
   },
   {
    "duration": 9,
    "start_time": "2023-02-11T10:14:52.961Z"
   },
   {
    "duration": 9,
    "start_time": "2023-02-11T10:15:05.046Z"
   },
   {
    "duration": 7,
    "start_time": "2023-02-11T10:15:11.047Z"
   },
   {
    "duration": 275,
    "start_time": "2023-02-11T10:16:42.344Z"
   },
   {
    "duration": 23,
    "start_time": "2023-02-11T10:17:23.943Z"
   },
   {
    "duration": 373,
    "start_time": "2023-02-11T10:18:06.240Z"
   },
   {
    "duration": 433,
    "start_time": "2023-02-11T10:18:29.466Z"
   },
   {
    "duration": 10,
    "start_time": "2023-02-11T10:18:57.512Z"
   },
   {
    "duration": 378,
    "start_time": "2023-02-11T10:19:10.811Z"
   },
   {
    "duration": 7,
    "start_time": "2023-02-11T10:19:31.427Z"
   },
   {
    "duration": 8,
    "start_time": "2023-02-11T10:20:02.819Z"
   },
   {
    "duration": 13,
    "start_time": "2023-02-11T10:21:00.757Z"
   },
   {
    "duration": 7,
    "start_time": "2023-02-11T10:21:36.193Z"
   },
   {
    "duration": 11,
    "start_time": "2023-02-11T10:21:55.807Z"
   },
   {
    "duration": 8,
    "start_time": "2023-02-11T10:22:05.589Z"
   },
   {
    "duration": 7,
    "start_time": "2023-02-11T10:22:16.775Z"
   },
   {
    "duration": 11,
    "start_time": "2023-02-11T10:23:08.621Z"
   },
   {
    "duration": 481,
    "start_time": "2023-02-11T10:30:45.809Z"
   },
   {
    "duration": 485,
    "start_time": "2023-02-11T10:31:00.456Z"
   },
   {
    "duration": 432,
    "start_time": "2023-02-11T10:31:14.571Z"
   },
   {
    "duration": 370,
    "start_time": "2023-02-11T10:31:35.244Z"
   },
   {
    "duration": 373,
    "start_time": "2023-02-11T10:31:44.769Z"
   },
   {
    "duration": 371,
    "start_time": "2023-02-11T10:31:53.171Z"
   },
   {
    "duration": 378,
    "start_time": "2023-02-11T10:32:01.544Z"
   },
   {
    "duration": 430,
    "start_time": "2023-02-11T10:32:21.177Z"
   },
   {
    "duration": 233,
    "start_time": "2023-02-11T10:32:36.333Z"
   },
   {
    "duration": 340,
    "start_time": "2023-02-11T10:35:08.737Z"
   },
   {
    "duration": 420,
    "start_time": "2023-02-11T10:35:20.039Z"
   },
   {
    "duration": 448,
    "start_time": "2023-02-11T10:35:31.454Z"
   },
   {
    "duration": 311,
    "start_time": "2023-02-11T10:35:51.718Z"
   },
   {
    "duration": 251,
    "start_time": "2023-02-11T10:36:18.626Z"
   },
   {
    "duration": 249,
    "start_time": "2023-02-11T10:37:44.612Z"
   },
   {
    "duration": 220,
    "start_time": "2023-02-11T10:45:09.941Z"
   },
   {
    "duration": 24,
    "start_time": "2023-02-11T10:45:10.173Z"
   },
   {
    "duration": 10,
    "start_time": "2023-02-11T10:45:12.442Z"
   },
   {
    "duration": 11,
    "start_time": "2023-02-11T10:46:02.572Z"
   },
   {
    "duration": 12,
    "start_time": "2023-02-11T10:48:05.544Z"
   },
   {
    "duration": 41,
    "start_time": "2023-02-11T10:48:50.153Z"
   },
   {
    "duration": 14,
    "start_time": "2023-02-11T10:49:05.960Z"
   },
   {
    "duration": 20,
    "start_time": "2023-02-11T10:49:27.227Z"
   },
   {
    "duration": 31,
    "start_time": "2023-02-11T10:50:05.152Z"
   },
   {
    "duration": 31,
    "start_time": "2023-02-11T10:50:10.757Z"
   },
   {
    "duration": 30,
    "start_time": "2023-02-11T10:50:17.944Z"
   },
   {
    "duration": 30,
    "start_time": "2023-02-11T10:50:20.637Z"
   },
   {
    "duration": 1138,
    "start_time": "2023-02-11T10:50:53.715Z"
   },
   {
    "duration": 446,
    "start_time": "2023-02-11T10:50:54.855Z"
   },
   {
    "duration": 14,
    "start_time": "2023-02-11T10:50:55.302Z"
   },
   {
    "duration": 12,
    "start_time": "2023-02-11T10:50:55.319Z"
   },
   {
    "duration": 14,
    "start_time": "2023-02-11T10:50:55.333Z"
   },
   {
    "duration": 13,
    "start_time": "2023-02-11T10:50:55.348Z"
   },
   {
    "duration": 19,
    "start_time": "2023-02-11T10:50:55.363Z"
   },
   {
    "duration": 18,
    "start_time": "2023-02-11T10:50:55.384Z"
   },
   {
    "duration": 11,
    "start_time": "2023-02-11T10:50:55.426Z"
   },
   {
    "duration": 305,
    "start_time": "2023-02-11T10:50:55.439Z"
   },
   {
    "duration": 421,
    "start_time": "2023-02-11T10:50:55.746Z"
   },
   {
    "duration": 391,
    "start_time": "2023-02-11T10:50:56.168Z"
   },
   {
    "duration": 446,
    "start_time": "2023-02-11T10:50:56.561Z"
   },
   {
    "duration": 360,
    "start_time": "2023-02-11T10:50:57.009Z"
   },
   {
    "duration": 435,
    "start_time": "2023-02-11T10:50:57.371Z"
   },
   {
    "duration": 232,
    "start_time": "2023-02-11T10:50:57.808Z"
   },
   {
    "duration": 8,
    "start_time": "2023-02-11T10:50:58.042Z"
   },
   {
    "duration": 251,
    "start_time": "2023-02-11T10:50:58.051Z"
   },
   {
    "duration": 4,
    "start_time": "2023-02-11T10:50:58.304Z"
   },
   {
    "duration": 214,
    "start_time": "2023-02-11T10:50:58.309Z"
   },
   {
    "duration": 25,
    "start_time": "2023-02-11T10:50:58.527Z"
   },
   {
    "duration": 42,
    "start_time": "2023-02-11T10:50:58.554Z"
   },
   {
    "duration": 43,
    "start_time": "2023-02-11T10:50:58.597Z"
   },
   {
    "duration": 15,
    "start_time": "2023-02-11T10:50:58.642Z"
   },
   {
    "duration": 1099,
    "start_time": "2023-02-11T10:51:10.451Z"
   },
   {
    "duration": 146,
    "start_time": "2023-02-11T10:51:11.552Z"
   },
   {
    "duration": 14,
    "start_time": "2023-02-11T10:51:11.700Z"
   },
   {
    "duration": 12,
    "start_time": "2023-02-11T10:51:11.715Z"
   },
   {
    "duration": 13,
    "start_time": "2023-02-11T10:51:11.729Z"
   },
   {
    "duration": 18,
    "start_time": "2023-02-11T10:51:11.743Z"
   },
   {
    "duration": 21,
    "start_time": "2023-02-11T10:51:11.763Z"
   },
   {
    "duration": 14,
    "start_time": "2023-02-11T10:51:11.785Z"
   },
   {
    "duration": 35,
    "start_time": "2023-02-11T10:51:11.801Z"
   },
   {
    "duration": 310,
    "start_time": "2023-02-11T10:51:11.838Z"
   },
   {
    "duration": 428,
    "start_time": "2023-02-11T10:51:12.150Z"
   },
   {
    "duration": 399,
    "start_time": "2023-02-11T10:51:12.580Z"
   },
   {
    "duration": 438,
    "start_time": "2023-02-11T10:51:12.981Z"
   },
   {
    "duration": 375,
    "start_time": "2023-02-11T10:51:13.422Z"
   },
   {
    "duration": 469,
    "start_time": "2023-02-11T10:51:13.799Z"
   },
   {
    "duration": 239,
    "start_time": "2023-02-11T10:51:14.269Z"
   },
   {
    "duration": 9,
    "start_time": "2023-02-11T10:51:14.510Z"
   },
   {
    "duration": 261,
    "start_time": "2023-02-11T10:51:14.520Z"
   },
   {
    "duration": 5,
    "start_time": "2023-02-11T10:51:14.782Z"
   },
   {
    "duration": 227,
    "start_time": "2023-02-11T10:51:14.788Z"
   },
   {
    "duration": 30,
    "start_time": "2023-02-11T10:51:15.017Z"
   },
   {
    "duration": 12,
    "start_time": "2023-02-11T10:51:15.049Z"
   },
   {
    "duration": 35,
    "start_time": "2023-02-11T10:51:15.063Z"
   },
   {
    "duration": 35,
    "start_time": "2023-02-11T10:51:15.099Z"
   },
   {
    "duration": 1129,
    "start_time": "2023-02-11T10:51:24.634Z"
   },
   {
    "duration": 136,
    "start_time": "2023-02-11T10:51:25.765Z"
   },
   {
    "duration": 13,
    "start_time": "2023-02-11T10:51:25.903Z"
   },
   {
    "duration": 13,
    "start_time": "2023-02-11T10:51:25.918Z"
   },
   {
    "duration": 20,
    "start_time": "2023-02-11T10:51:25.933Z"
   },
   {
    "duration": 24,
    "start_time": "2023-02-11T10:51:25.955Z"
   },
   {
    "duration": 25,
    "start_time": "2023-02-11T10:51:25.981Z"
   },
   {
    "duration": 19,
    "start_time": "2023-02-11T10:51:26.008Z"
   },
   {
    "duration": 11,
    "start_time": "2023-02-11T10:51:26.030Z"
   },
   {
    "duration": 300,
    "start_time": "2023-02-11T10:51:26.044Z"
   },
   {
    "duration": 435,
    "start_time": "2023-02-11T10:51:26.345Z"
   },
   {
    "duration": 386,
    "start_time": "2023-02-11T10:51:26.781Z"
   },
   {
    "duration": 424,
    "start_time": "2023-02-11T10:51:27.170Z"
   },
   {
    "duration": 373,
    "start_time": "2023-02-11T10:51:27.596Z"
   },
   {
    "duration": 442,
    "start_time": "2023-02-11T10:51:27.971Z"
   },
   {
    "duration": 263,
    "start_time": "2023-02-11T10:51:28.414Z"
   },
   {
    "duration": 9,
    "start_time": "2023-02-11T10:51:28.679Z"
   },
   {
    "duration": 253,
    "start_time": "2023-02-11T10:51:28.689Z"
   },
   {
    "duration": 4,
    "start_time": "2023-02-11T10:51:28.944Z"
   },
   {
    "duration": 231,
    "start_time": "2023-02-11T10:51:28.950Z"
   },
   {
    "duration": 23,
    "start_time": "2023-02-11T10:51:29.182Z"
   },
   {
    "duration": 23,
    "start_time": "2023-02-11T10:51:29.207Z"
   },
   {
    "duration": 30,
    "start_time": "2023-02-11T10:51:29.231Z"
   },
   {
    "duration": 13,
    "start_time": "2023-02-11T10:51:29.262Z"
   },
   {
    "duration": 1200,
    "start_time": "2023-02-11T16:54:19.673Z"
   },
   {
    "duration": 308,
    "start_time": "2023-02-11T16:54:20.875Z"
   },
   {
    "duration": 12,
    "start_time": "2023-02-11T16:54:21.185Z"
   },
   {
    "duration": 15,
    "start_time": "2023-02-11T16:54:21.199Z"
   },
   {
    "duration": 12,
    "start_time": "2023-02-11T16:54:21.216Z"
   },
   {
    "duration": 14,
    "start_time": "2023-02-11T16:54:21.230Z"
   },
   {
    "duration": 22,
    "start_time": "2023-02-11T16:54:21.245Z"
   },
   {
    "duration": 18,
    "start_time": "2023-02-11T16:54:21.269Z"
   },
   {
    "duration": 13,
    "start_time": "2023-02-11T16:54:21.289Z"
   },
   {
    "duration": 325,
    "start_time": "2023-02-11T16:54:21.306Z"
   },
   {
    "duration": 456,
    "start_time": "2023-02-11T16:54:21.633Z"
   },
   {
    "duration": 498,
    "start_time": "2023-02-11T16:54:22.091Z"
   },
   {
    "duration": 464,
    "start_time": "2023-02-11T16:54:22.591Z"
   },
   {
    "duration": 413,
    "start_time": "2023-02-11T16:54:23.057Z"
   },
   {
    "duration": 446,
    "start_time": "2023-02-11T16:54:23.472Z"
   },
   {
    "duration": 261,
    "start_time": "2023-02-11T16:54:23.920Z"
   },
   {
    "duration": 10,
    "start_time": "2023-02-11T16:54:24.183Z"
   },
   {
    "duration": 270,
    "start_time": "2023-02-11T16:54:24.195Z"
   },
   {
    "duration": 5,
    "start_time": "2023-02-11T16:54:24.467Z"
   },
   {
    "duration": 247,
    "start_time": "2023-02-11T16:54:24.474Z"
   },
   {
    "duration": 35,
    "start_time": "2023-02-11T16:54:24.723Z"
   },
   {
    "duration": 11,
    "start_time": "2023-02-11T16:54:24.760Z"
   },
   {
    "duration": 32,
    "start_time": "2023-02-11T16:54:24.773Z"
   },
   {
    "duration": 41,
    "start_time": "2023-02-11T16:54:24.807Z"
   }
  ],
  "kernelspec": {
   "display_name": "Python 3 (ipykernel)",
   "language": "python",
   "name": "python3"
  },
  "language_info": {
   "codemirror_mode": {
    "name": "ipython",
    "version": 3
   },
   "file_extension": ".py",
   "mimetype": "text/x-python",
   "name": "python",
   "nbconvert_exporter": "python",
   "pygments_lexer": "ipython3",
   "version": "3.9.12"
  },
  "toc": {
   "base_numbering": 1,
   "nav_menu": {},
   "number_sections": true,
   "sideBar": true,
   "skip_h1_title": false,
   "title_cell": "Table of Contents",
   "title_sidebar": "Contents",
   "toc_cell": false,
   "toc_position": {},
   "toc_section_display": true,
   "toc_window_display": false
  }
 },
 "nbformat": 4,
 "nbformat_minor": 5
}
